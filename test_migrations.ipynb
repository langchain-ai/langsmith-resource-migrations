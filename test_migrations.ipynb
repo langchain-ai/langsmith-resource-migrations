{
 "cells": [
  {
   "cell_type": "code",
   "execution_count": null,
   "metadata": {},
   "outputs": [],
   "source": [
    "from migration import LangsmithMigrator\n",
    "\n",
    "OLD_API_KEY = \"\"\n",
    "NEW_API_KEY = \"\"\n",
    "\n",
    "migrator = LangsmithMigrator(OLD_API_KEY, NEW_API_KEY)"
   ]
  },
  {
   "cell_type": "markdown",
   "metadata": {},
   "source": [
    "### Test Migrate Project Rules"
   ]
  },
  {
   "cell_type": "code",
   "execution_count": null,
   "metadata": {},
   "outputs": [],
   "source": [
    "migrator.migrate_project_rules(\n",
    "    old_project_id=\"a1f02fXXXXXXXXX\",\n",
    "    new_project_id=\"05b43eXXXXXXXXX\"\n",
    ")"
   ]
  },
  {
   "cell_type": "markdown",
   "metadata": {},
   "source": [
    "### Test Migrate Dataset Only"
   ]
  },
  {
   "cell_type": "code",
   "execution_count": null,
   "metadata": {},
   "outputs": [],
   "source": [
    "migrator.migrate_dataset(\n",
    "    original_dataset_id=\"8cc4a637XXXXXXXX\",\n",
    "    migration_mode=\"DATASET_ONLY\"\n",
    ")"
   ]
  },
  {
   "cell_type": "markdown",
   "metadata": {},
   "source": [
    "### Test Migrate Dataset AND Examples"
   ]
  },
  {
   "cell_type": "code",
   "execution_count": null,
   "metadata": {},
   "outputs": [],
   "source": [
    "migrator.migrate_dataset(\n",
    "    original_dataset_id=\"8cc4a637XXXXXXXX\",\n",
    "    migration_mode=\"EXAMPLES\"\n",
    ")"
   ]
  },
  {
   "cell_type": "markdown",
   "metadata": {},
   "source": [
    "### Test Migrate Dataset AND Examples AND Experiments"
   ]
  },
  {
   "cell_type": "code",
   "execution_count": null,
   "metadata": {},
   "outputs": [],
   "source": [
    "migrator.migrate_dataset(\n",
    "    original_dataset_id=\"232bd49b-eeXXXXXXXXXXX\",\n",
    "    migration_mode=\"EXAMPLES_AND_EXPERIMENTS\"\n",
    ")\n"
   ]
  },
  {
   "cell_type": "markdown",
   "metadata": {},
   "source": [
    "### Test Migrate Prompt"
   ]
  },
  {
   "cell_type": "code",
   "execution_count": 2,
   "metadata": {},
   "outputs": [],
   "source": [
    "migrator.migrate_prompt(\n",
    "    original_prompt_id=\"reseXXXXXXXX\"\n",
    ")"
   ]
  }
 ],
 "metadata": {
  "kernelspec": {
   "display_name": "venv",
   "language": "python",
   "name": "python3"
  },
  "language_info": {
   "codemirror_mode": {
    "name": "ipython",
    "version": 3
   },
   "file_extension": ".py",
   "mimetype": "text/x-python",
   "name": "python",
   "nbconvert_exporter": "python",
   "pygments_lexer": "ipython3",
   "version": "3.9.6"
  }
 },
 "nbformat": 4,
 "nbformat_minor": 2
}
